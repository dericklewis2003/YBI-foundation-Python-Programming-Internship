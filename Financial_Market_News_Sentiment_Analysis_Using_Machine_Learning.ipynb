{
  "nbformat": 4,
  "nbformat_minor": 0,
  "metadata": {
    "colab": {
      "provenance": []
    },
    "kernelspec": {
      "name": "python3",
      "display_name": "Python 3"
    },
    "language_info": {
      "name": "python"
    }
  },
  "cells": [
    {
      "cell_type": "markdown",
      "source": [
        "**Title of Project**\n",
        "Financial Market News Sentiment Analysis Using Machine Learning"
      ],
      "metadata": {
        "id": "KLcih-xk_Vnv"
      }
    },
    {
      "cell_type": "markdown",
      "source": [
        "**Objective**\n",
        " To analyze the sentiment of financial news articles and predict its impact on the market using a Random Forest model."
      ],
      "metadata": {
        "id": "Dw-2p3rY_ceG"
      }
    },
    {
      "cell_type": "markdown",
      "source": [
        "Data Source\n",
        "\n",
        "Dataset: /content/Financial Market News.csv"
      ],
      "metadata": {
        "id": "qrIspEMd_91H"
      }
    },
    {
      "cell_type": "markdown",
      "source": [
        "Import Libary"
      ],
      "metadata": {
        "id": "tHsz8rKZAHEY"
      }
    },
    {
      "cell_type": "code",
      "source": [
        "import pandas as pd\n",
        "import numpy as np\n",
        "import matplotlib.pyplot as plt\n",
        "import seaborn as sns\n",
        "from sklearn.model_selection import train_test_split\n",
        "from sklearn.feature_extraction.text import TfidfVectorizer\n",
        "from sklearn.ensemble import RandomForestClassifier\n",
        "from sklearn.metrics import classification_report, accuracy_score"
      ],
      "metadata": {
        "id": "Xu9M36dpAJmI"
      },
      "execution_count": 3,
      "outputs": []
    },
    {
      "cell_type": "markdown",
      "source": [
        "Import Data"
      ],
      "metadata": {
        "id": "BnLXmpcIAOGY"
      }
    },
    {
      "cell_type": "code",
      "source": [
        "\n",
        "df = pd.read_csv('/content/Financial Market News.csv', encoding='latin-1') # Try 'latin-1' encoding\n",
        "\n"
      ],
      "metadata": {
        "id": "AMLjsmluARtn"
      },
      "execution_count": 7,
      "outputs": []
    },
    {
      "cell_type": "markdown",
      "source": [
        "Describe Data"
      ],
      "metadata": {
        "id": "T92a1RowAxaO"
      }
    },
    {
      "cell_type": "code",
      "source": [
        "print(df.head())\n",
        "print(df.info())\n",
        "print(df.describe())"
      ],
      "metadata": {
        "colab": {
          "base_uri": "https://localhost:8080/"
        },
        "id": "B_q0OsZYAyxH",
        "outputId": "49f0a91e-af59-4ec5-dd98-c5b9d56de43f"
      },
      "execution_count": 8,
      "outputs": [
        {
          "output_type": "stream",
          "name": "stdout",
          "text": [
            "         Date  Label                                             News 1  \\\n",
            "0  01-01-2010      0           McIlroy's men catch cold from Gudjonsson   \n",
            "1  02-01-2010      0               Warning from history points to crash   \n",
            "2  03-01-2010      0      Comment: Why Israel's peaceniks feel betrayed   \n",
            "3  04-01-2010      1             £750,000-a-goal Weah aims parting shot   \n",
            "4  05-01-2010      1  Leeds arrive in Turkey to the silence of the fans   \n",
            "\n",
            "                                       News 2  \\\n",
            "0                       Obituary: Brian Walsh   \n",
            "1              Investors flee to dollar haven   \n",
            "2  Court deals blow to seizure of drug assets   \n",
            "3            Newcastle pay for Fletcher years   \n",
            "4     One woman's vision offers loan lifeline   \n",
            "\n",
            "                                            News 3  \\\n",
            "0       Workplace blues leave employers in the red   \n",
            "1                      Banks and tobacco in favour   \n",
            "2                       An ideal target for spooks   \n",
            "3  Brown sent to the stands for Scotland qualifier   \n",
            "4          Working Lives: How world leaders worked   \n",
            "\n",
            "                                        News 4  \\\n",
            "0                     Classical review: Rattle   \n",
            "1                        Review: Llama Farmers   \n",
            "2  World steps between two sides intent on war   \n",
            "3         Tourists wary of breaking new ground   \n",
            "4           Working Lives: Tricks of the trade   \n",
            "\n",
            "                                              News 5  \\\n",
            "0                     Dance review: Merce Cunningham   \n",
            "1                       War jitters lead to sell-off   \n",
            "2                       What the region's papers say   \n",
            "3              Canary Wharf climbs into the FTSE 100   \n",
            "4  Working Lives: six-hour days, long lunches and...   \n",
            "\n",
            "                                         News 6  \\\n",
            "0  Genetic tests to be used in setting premiums   \n",
            "1                    Your not-so-secret history   \n",
            "2           Comment: Fear and rage in Palestine   \n",
            "3                           Review: Bill Bailey   \n",
            "4                        Pop review: We Love UK   \n",
            "\n",
            "                                          News 7  \\\n",
            "0                        Opera review: La Bohème   \n",
            "1                  Review: The Northern Sinfonia   \n",
            "2  Poverty and resentment fuels Palestinian fury   \n",
            "3                              Review: Classical   \n",
            "4               World music review: Marisa Monte   \n",
            "\n",
            "                                        News 8  ...  \\\n",
            "0                   Pop review: Britney Spears  ...   \n",
            "1                             Review: Hysteria  ...   \n",
            "2  Republican feud fear as dissident is killed  ...   \n",
            "3              Review: New Contemporaries 2000  ...   \n",
            "4             Art review:  Hollingsworth/Heyer  ...   \n",
            "\n",
            "                                News 16                              News 17  \\\n",
            "0                 Finland 0 - 0 England                   Healy a marked man   \n",
            "1  Why Wenger will stick to his Gunners  Out of luck England hit rock bottom   \n",
            "2             FTSE goes upwardly mobile             At this price?  BP Amoco   \n",
            "3         More cash on way for counties      Cairns carries Kiwis to victory   \n",
            "4          Duisenberg in double trouble           Pru to cut pension charges   \n",
            "\n",
            "                                             News 18  \\\n",
            "0                     Happy birthday Harpers & Queen   \n",
            "1                         Wilkinson out of his depth   \n",
            "2                                            Go fish   \n",
            "3  Year of Blanchflower's flourish when Spurs sto...   \n",
            "4                            Art review: Paul Graham   \n",
            "\n",
            "                                             News 19  \\\n",
            "0  Win unlimited access to the Raindance film fes...   \n",
            "1                   Kinsella sparks Irish power play   \n",
            "2         Bosnian Serb blows himself up to evade law   \n",
            "3      New direct approach brings only pay-per-blues   \n",
            "4               Shearer shot sparks Boro humiliation   \n",
            "\n",
            "                                             News 20  \\\n",
            "0  Labour pledges £800m to bridge north-south divide   \n",
            "1                    Brown banished as Scots rebound   \n",
            "2                       Orange float delayed to 2001   \n",
            "3                           Third Division  round-up   \n",
            "4  Ridsdale's lingering fears as Leeds revisit Tu...   \n",
            "\n",
            "                                             News 21  \\\n",
            "0       Wales: Lib-Lab pact firm despite resignation   \n",
            "1                   Battling Wales cling to lifeline   \n",
            "2  Angry factory workers root out fear, favours a...   \n",
            "3                          Second Division  round-up   \n",
            "4            Champions League: Rangers v Galatasaray   \n",
            "\n",
            "                              News 22  \\\n",
            "0                        Donald Dewar   \n",
            "1   Ehiogu close to sealing Boro move   \n",
            "2  Smith defied advice on dome payout   \n",
            "3            First Division  round-up   \n",
            "4   Champions League: Lazio v Arsenal   \n",
            "\n",
            "                                             News 23  \\\n",
            "0  Regenerating homes  regenerates well-being in ...   \n",
            "1                                 Man-to-man marking   \n",
            "2                        Xerox takes the axe to jobs   \n",
            "3                McLean ends his career with a punch   \n",
            "4                                Lazio 1 - 1 Arsenal   \n",
            "\n",
            "                        News 24  \\\n",
            "0   Win £100 worth of underwear   \n",
            "1                   Match stats   \n",
            "2  Comment: Refugees in Britain   \n",
            "3     Heskey grabs triple crown   \n",
            "4           England in Pakistan   \n",
            "\n",
            "                                             News 25  \n",
            "0                             TV guide: Random views  \n",
            "1  French referee at centre of storm is no strang...  \n",
            "2              Maverick who sparked the new intifada  \n",
            "3                   Weah on his way as City march on  \n",
            "4               England given olive-branch reception  \n",
            "\n",
            "[5 rows x 27 columns]\n",
            "<class 'pandas.core.frame.DataFrame'>\n",
            "RangeIndex: 4101 entries, 0 to 4100\n",
            "Data columns (total 27 columns):\n",
            " #   Column   Non-Null Count  Dtype \n",
            "---  ------   --------------  ----- \n",
            " 0   Date     4101 non-null   object\n",
            " 1   Label    4101 non-null   int64 \n",
            " 2   News 1   4101 non-null   object\n",
            " 3   News 2   4101 non-null   object\n",
            " 4   News 3   4101 non-null   object\n",
            " 5   News 4   4101 non-null   object\n",
            " 6   News 5   4101 non-null   object\n",
            " 7   News 6   4101 non-null   object\n",
            " 8   News 7   4101 non-null   object\n",
            " 9   News 8   4101 non-null   object\n",
            " 10  News 9   4101 non-null   object\n",
            " 11  News 10  4101 non-null   object\n",
            " 12  News 11  4101 non-null   object\n",
            " 13  News 12  4101 non-null   object\n",
            " 14  News 13  4101 non-null   object\n",
            " 15  News 14  4101 non-null   object\n",
            " 16  News 15  4101 non-null   object\n",
            " 17  News 16  4101 non-null   object\n",
            " 18  News 17  4101 non-null   object\n",
            " 19  News 18  4101 non-null   object\n",
            " 20  News 19  4101 non-null   object\n",
            " 21  News 20  4101 non-null   object\n",
            " 22  News 21  4101 non-null   object\n",
            " 23  News 22  4101 non-null   object\n",
            " 24  News 23  4100 non-null   object\n",
            " 25  News 24  4098 non-null   object\n",
            " 26  News 25  4098 non-null   object\n",
            "dtypes: int64(1), object(26)\n",
            "memory usage: 865.2+ KB\n",
            "None\n",
            "             Label\n",
            "count  4101.000000\n",
            "mean      0.528164\n",
            "std       0.499267\n",
            "min       0.000000\n",
            "25%       0.000000\n",
            "50%       1.000000\n",
            "75%       1.000000\n",
            "max       1.000000\n"
          ]
        }
      ]
    },
    {
      "cell_type": "markdown",
      "source": [
        "Data Visualization"
      ],
      "metadata": {
        "id": "z9P2z0aHA1pt"
      }
    },
    {
      "source": [
        "\n",
        "\n",
        "# Visualize the distribution of sentiment labels\n",
        "sns.countplot(x='Label', data=df)\n",
        "plt.title('Distribution of Sentiment Labels')\n",
        "plt.xlabel('Sentiment')\n",
        "plt.ylabel('Count')\n",
        "plt.show()\n"
      ],
      "cell_type": "code",
      "metadata": {
        "colab": {
          "base_uri": "https://localhost:8080/",
          "height": 472
        },
        "id": "slCBoMoGBb8P",
        "outputId": "e9b83787-65f8-4bb3-ff60-2e79d0e05dfc"
      },
      "execution_count": 9,
      "outputs": [
        {
          "output_type": "display_data",
          "data": {
            "text/plain": [
              "<Figure size 640x480 with 1 Axes>"
            ],
            "image/png": "[encoded data removed]"
          },
          "metadata": {}
        }
      ]
    },
    {
      "cell_type": "markdown",
      "source": [
        "Data Processing"
      ],
      "metadata": {
        "id": "2A9doC8YXI6S"
      }
    },
    {
      "cell_type": "code",
      "source": [
        "# Handling missing values and text cleaning\n",
        "df = df.dropna()  # Drop rows with missing values\n",
        "\n",
        "import re\n",
        "\n",
        "def clean_text(text):\n",
        "    text = re.sub(r'\\s+', ' ', text)  # Remove extra whitespace\n",
        "    text = re.sub(r'[^\\w\\s]', '', text)  # Remove punctuation\n",
        "    return text\n",
        "\n",
        "df['cleaned_text'] = df['News 1'].apply(clean_text)"
      ],
      "metadata": {
        "id": "TCklF79-XKb7"
      },
      "execution_count": 11,
      "outputs": []
    },
    {
      "cell_type": "markdown",
      "source": [
        "Define Target Variable"
      ],
      "metadata": {
        "id": "Xyi4sD8EXsvb"
      }
    },
    {
      "cell_type": "code",
      "source": [
        "X = df['cleaned_text']\n",
        "y = df['Label']  # Assuming 'Label' contains sentiment labels"
      ],
      "metadata": {
        "id": "_cuytXA8XveT"
      },
      "execution_count": 12,
      "outputs": []
    },
    {
      "cell_type": "code",
      "source": [
        "# Convert text to numerical features\n",
        "vectorizer = TfidfVectorizer(max_features=5000)\n",
        "X_vectorized = vectorizer.fit_transform(X)\n"
      ],
      "metadata": {
        "id": "WwsZQh0OX1mS"
      },
      "execution_count": 13,
      "outputs": []
    },
    {
      "cell_type": "code",
      "source": [
        "# Train Test Split\n",
        "X_train, X_test, y_train, y_test = train_test_split(X_vectorized, y, test_size=0.2, random_state=42)\n"
      ],
      "metadata": {
        "id": "NjAL4KAgX4KK"
      },
      "execution_count": 14,
      "outputs": []
    },
    {
      "cell_type": "markdown",
      "source": [
        "Modeling"
      ],
      "metadata": {
        "id": "F8sDt5EEX57k"
      }
    },
    {
      "cell_type": "code",
      "source": [
        "# Train Random Forest model\n",
        "model = RandomForestClassifier(n_estimators=100, random_state=42)\n",
        "model.fit(X_train, y_train)"
      ],
      "metadata": {
        "colab": {
          "base_uri": "https://localhost:8080/",
          "height": 74
        },
        "id": "vduVHTEMX7PK",
        "outputId": "bbeaccb4-45ca-4f2e-f1eb-955d9b3b43e0"
      },
      "execution_count": 15,
      "outputs": [
        {
          "output_type": "execute_result",
          "data": {
            "text/plain": [
              "RandomForestClassifier(random_state=42)"
            ],
            "text/html": [
              "<style>#sk-container-id-1 {color: black;}#sk-container-id-1 pre{padding: 0;}#sk-container-id-1 div.sk-toggleable {background-color: white;}#sk-container-id-1 label.sk-toggleable__label {cursor: pointer;display: block;width: 100%;margin-bottom: 0;padding: 0.3em;box-sizing: border-box;text-align: center;}#sk-container-id-1 label.sk-toggleable__label-arrow:before {content: \"▸\";float: left;margin-right: 0.25em;color: #696969;}#sk-container-id-1 label.sk-toggleable__label-arrow:hover:before {color: black;}#sk-container-id-1 div.sk-estimator:hover label.sk-toggleable__label-arrow:before {color: black;}#sk-container-id-1 div.sk-toggleable__content {max-height: 0;max-width: 0;overflow: hidden;text-align: left;background-color: #f0f8ff;}#sk-container-id-1 div.sk-toggleable__content pre {margin: 0.2em;color: black;border-radius: 0.25em;background-color: #f0f8ff;}#sk-container-id-1 input.sk-toggleable__control:checked~div.sk-toggleable__content {max-height: 200px;max-width: 100%;overflow: auto;}#sk-container-id-1 input.sk-toggleable__control:checked~label.sk-toggleable__label-arrow:before {content: \"▾\";}#sk-container-id-1 div.sk-estimator input.sk-toggleable__control:checked~label.sk-toggleable__label {background-color: #d4ebff;}#sk-container-id-1 div.sk-label input.sk-toggleable__control:checked~label.sk-toggleable__label {background-color: #d4ebff;}#sk-container-id-1 input.sk-hidden--visually {border: 0;clip: rect(1px 1px 1px 1px);clip: rect(1px, 1px, 1px, 1px);height: 1px;margin: -1px;overflow: hidden;padding: 0;position: absolute;width: 1px;}#sk-container-id-1 div.sk-estimator {font-family: monospace;background-color: #f0f8ff;border: 1px dotted black;border-radius: 0.25em;box-sizing: border-box;margin-bottom: 0.5em;}#sk-container-id-1 div.sk-estimator:hover {background-color: #d4ebff;}#sk-container-id-1 div.sk-parallel-item::after {content: \"\";width: 100%;border-bottom: 1px solid gray;flex-grow: 1;}#sk-container-id-1 div.sk-label:hover label.sk-toggleable__label {background-color: #d4ebff;}#sk-container-id-1 div.sk-serial::before {content: \"\";position: absolute;border-left: 1px solid gray;box-sizing: border-box;top: 0;bottom: 0;left: 50%;z-index: 0;}#sk-container-id-1 div.sk-serial {display: flex;flex-direction: column;align-items: center;background-color: white;padding-right: 0.2em;padding-left: 0.2em;position: relative;}#sk-container-id-1 div.sk-item {position: relative;z-index: 1;}#sk-container-id-1 div.sk-parallel {display: flex;align-items: stretch;justify-content: center;background-color: white;position: relative;}#sk-container-id-1 div.sk-item::before, #sk-container-id-1 div.sk-parallel-item::before {content: \"\";position: absolute;border-left: 1px solid gray;box-sizing: border-box;top: 0;bottom: 0;left: 50%;z-index: -1;}#sk-container-id-1 div.sk-parallel-item {display: flex;flex-direction: column;z-index: 1;position: relative;background-color: white;}#sk-container-id-1 div.sk-parallel-item:first-child::after {align-self: flex-end;width: 50%;}#sk-container-id-1 div.sk-parallel-item:last-child::after {align-self: flex-start;width: 50%;}#sk-container-id-1 div.sk-parallel-item:only-child::after {width: 0;}#sk-container-id-1 div.sk-dashed-wrapped {border: 1px dashed gray;margin: 0 0.4em 0.5em 0.4em;box-sizing: border-box;padding-bottom: 0.4em;background-color: white;}#sk-container-id-1 div.sk-label label {font-family: monospace;font-weight: bold;display: inline-block;line-height: 1.2em;}#sk-container-id-1 div.sk-label-container {text-align: center;}#sk-container-id-1 div.sk-container {/* jupyter's `normalize.less` sets `[hidden] { display: none; }` but bootstrap.min.css set `[hidden] { display: none !important; }` so we also need the `!important` here to be able to override the default hidden behavior on the sphinx rendered scikit-learn.org. See: https://github.com/scikit-learn/scikit-learn/issues/21755 */display: inline-block !important;position: relative;}#sk-container-id-1 div.sk-text-repr-fallback {display: none;}</style><div id=\"sk-container-id-1\" class=\"sk-top-container\"><div class=\"sk-text-repr-fallback\"><pre>RandomForestClassifier(random_state=42)</pre><b>In a Jupyter environment, please rerun this cell to show the HTML representation or trust the notebook. <br />On GitHub, the HTML representation is unable to render, please try loading this page with nbviewer.org.</b></div><div class=\"sk-container\" hidden><div class=\"sk-item\"><div class=\"sk-estimator sk-toggleable\"><input class=\"sk-toggleable__control sk-hidden--visually\" id=\"sk-estimator-id-1\" type=\"checkbox\" checked><label for=\"sk-estimator-id-1\" class=\"sk-toggleable__label sk-toggleable__label-arrow\">RandomForestClassifier</label><div class=\"sk-toggleable__content\"><pre>RandomForestClassifier(random_state=42)</pre></div></div></div></div></div>"
            ]
          },
          "metadata": {},
          "execution_count": 15
        }
      ]
    },
    {
      "cell_type": "markdown",
      "source": [
        "MOdel Evalution"
      ],
      "metadata": {
        "id": "wWzqC9OUYAqb"
      }
    },
    {
      "cell_type": "code",
      "source": [
        "y_pred = model.predict(X_test)\n",
        "print(\"Accuracy Score:\", accuracy_score(y_test, y_pred))\n",
        "print(\"Classification Report:\\n\", classification_report(y_test, y_pred))"
      ],
      "metadata": {
        "colab": {
          "base_uri": "https://localhost:8080/"
        },
        "id": "IKkPQjzsYBx6",
        "outputId": "5c01cc85-11d8-4808-e521-cf2a4fc707b6"
      },
      "execution_count": 16,
      "outputs": [
        {
          "output_type": "stream",
          "name": "stdout",
          "text": [
            "Accuracy Score: 0.5097560975609756\n",
            "Classification Report:\n",
            "               precision    recall  f1-score   support\n",
            "\n",
            "           0       0.49      0.29      0.37       399\n",
            "           1       0.52      0.71      0.60       421\n",
            "\n",
            "    accuracy                           0.51       820\n",
            "   macro avg       0.50      0.50      0.48       820\n",
            "weighted avg       0.51      0.51      0.49       820\n",
            "\n"
          ]
        }
      ]
    },
    {
      "cell_type": "markdown",
      "source": [
        "**Prediction**"
      ],
      "metadata": {
        "id": "ceGK9TlNc2Mm"
      }
    },
    {
      "cell_type": "code",
      "source": [
        "# Example Data for Prediction\n",
        "new_data = [\n",
        "    \"The stock market is experiencing a downturn due to recent economic reports.\",\n",
        "    \"Investors are optimistic about the new technology innovations by major companies.\",\n",
        "    \"There is uncertainty in the market as geopolitical tensions rise.\",\n",
        "    \"Positive earnings reports are driving the market to new highs.\",\n",
        "    \"Economic indicators suggest a possible recession in the coming months.\",\n",
        "    \"Corporate profits have exceeded expectations, leading to a market rally.\",\n",
        "    \"Concerns over inflation are causing volatility in the stock market.\",\n",
        "    \"The central bank's decision to lower interest rates has boosted investor confidence.\"\n",
        "]\n",
        "\n",
        "# Clean and Vectorize New Data\n",
        "new_data_cleaned = [clean_text(text) for text in new_data]\n",
        "new_data_vectorized = vectorizer.transform(new_data_cleaned)\n",
        "\n",
        "# Make Predictions\n",
        "predictions = model.predict(new_data_vectorized)\n",
        "\n",
        "# Map predictions to sentiment labels\n",
        "sentiment_labels = {0: 'negative', 1: 'positive'}\n",
        "\n",
        "# Print News and Predictions\n",
        "for text, prediction in zip(new_data, predictions):\n",
        "    print(f\"News: {text}\")\n",
        "    print(f\"Predicted Sentiment: {sentiment_labels[prediction]}\")\n",
        "    print()\n"
      ],
      "metadata": {
        "colab": {
          "base_uri": "https://localhost:8080/"
        },
        "id": "zJL6ZPfBc0g3",
        "outputId": "c970a803-1a89-483d-bc98-e588822ff0ff"
      },
      "execution_count": 28,
      "outputs": [
        {
          "output_type": "stream",
          "name": "stdout",
          "text": [
            "News: The stock market is experiencing a downturn due to recent economic reports.\n",
            "Predicted Sentiment: negative\n",
            "\n",
            "News: Investors are optimistic about the new technology innovations by major companies.\n",
            "Predicted Sentiment: positive\n",
            "\n",
            "News: There is uncertainty in the market as geopolitical tensions rise.\n",
            "Predicted Sentiment: positive\n",
            "\n",
            "News: Positive earnings reports are driving the market to new highs.\n",
            "Predicted Sentiment: negative\n",
            "\n",
            "News: Economic indicators suggest a possible recession in the coming months.\n",
            "Predicted Sentiment: positive\n",
            "\n",
            "News: Corporate profits have exceeded expectations, leading to a market rally.\n",
            "Predicted Sentiment: negative\n",
            "\n",
            "News: Concerns over inflation are causing volatility in the stock market.\n",
            "Predicted Sentiment: positive\n",
            "\n",
            "News: The central bank's decision to lower interest rates has boosted investor confidence.\n",
            "Predicted Sentiment: negative\n",
            "\n"
          ]
        }
      ]
    },
    {
      "cell_type": "code",
      "source": [],
      "metadata": {
        "id": "t2FeURqqeNA0"
      },
      "execution_count": null,
      "outputs": []
    }
  ]
}