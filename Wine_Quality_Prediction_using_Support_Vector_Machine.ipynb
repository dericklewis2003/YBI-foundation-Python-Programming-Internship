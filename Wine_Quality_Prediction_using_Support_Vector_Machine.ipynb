{
  "nbformat": 4,
  "nbformat_minor": 0,
  "metadata": {
    "colab": {
      "provenance": []
    },
    "kernelspec": {
      "name": "python3",
      "display_name": "Python 3"
    },
    "language_info": {
      "name": "python"
    }
  },
  "cells": [
    {
      "cell_type": "markdown",
      "source": [
        "**Title of Project**\n",
        "\n",
        "Wine Quality Prediction using Support Vector Machine"
      ],
      "metadata": {
        "id": "Klom_p5aDTnm"
      }
    },
    {
      "cell_type": "markdown",
      "source": [
        "**Objective**\n",
        "\n",
        "Predict the quality of wine using the Support Vector Machine (SVM) algorithm based on various physicochemical properties."
      ],
      "metadata": {
        "id": "VTtMnadPDi0H"
      }
    },
    {
      "cell_type": "markdown",
      "source": [
        "**Data Source**\n",
        "\n",
        "Red Wine Quality Dataset: winequality-red.csv\n",
        "White Wine Quality Dataset: winequality-white.csv"
      ],
      "metadata": {
        "id": "rD6QYEcADr8g"
      }
    },
    {
      "cell_type": "markdown",
      "source": [
        "**Import Libraries**\n"
      ],
      "metadata": {
        "id": "CAmK5CNPEKfg"
      }
    },
    {
      "cell_type": "code",
      "source": [
        "import pandas as pd\n",
        "import numpy as np\n",
        "import matplotlib.pyplot as plt\n",
        "import seaborn as sns\n",
        "from sklearn.model_selection import train_test_split\n",
        "from sklearn.svm import SVC\n",
        "from sklearn.metrics import classification_report, confusion_matrix"
      ],
      "metadata": {
        "id": "Hlg5RBP_EQW4"
      },
      "execution_count": 2,
      "outputs": []
    },
    {
      "cell_type": "markdown",
      "source": [
        "**Import Data**"
      ],
      "metadata": {
        "id": "wdUguZIeEgE3"
      }
    },
    {
      "cell_type": "code",
      "source": [
        "import pandas as pd\n",
        "\n",
        "# Importing red wine data with the correct delimiter\n",
        "red_wine_data = pd.read_csv('https://raw.githubusercontent.com/shrikant-temburwar/Wine-Quality-Dataset/master/winequality-red.csv', delimiter=';')\n",
        "\n",
        "# Importing white wine data with the correct delimiter\n",
        "white_wine_data = pd.read_csv('https://raw.githubusercontent.com/shrikant-temburwar/Wine-Quality-Dataset/master/winequality-white.csv', delimiter=';')\n",
        "\n",
        "# Check the columns again to ensure they are properly parsed\n",
        "print(red_wine_data.columns)\n",
        "print(white_wine_data.columns)\n"
      ],
      "metadata": {
        "id": "jrxVVMLVEjm3",
        "colab": {
          "base_uri": "https://localhost:8080/"
        },
        "outputId": "cca59d8a-3adc-447d-98a1-2d392aaed8aa"
      },
      "execution_count": 13,
      "outputs": [
        {
          "output_type": "stream",
          "name": "stdout",
          "text": [
            "Index(['fixed acidity', 'volatile acidity', 'citric acid', 'residual sugar',\n",
            "       'chlorides', 'free sulfur dioxide', 'total sulfur dioxide', 'density',\n",
            "       'pH', 'sulphates', 'alcohol', 'quality'],\n",
            "      dtype='object')\n",
            "Index(['fixed acidity', 'volatile acidity', 'citric acid', 'residual sugar',\n",
            "       'chlorides', 'free sulfur dioxide', 'total sulfur dioxide', 'density',\n",
            "       'pH', 'sulphates', 'alcohol', 'quality'],\n",
            "      dtype='object')\n"
          ]
        }
      ]
    },
    {
      "cell_type": "markdown",
      "source": [
        "**Describe Data**"
      ],
      "metadata": {
        "id": "4HL75r1OEm9A"
      }
    },
    {
      "cell_type": "code",
      "source": [
        "# Describing red wine data\n",
        "print(red_wine_data.describe())\n",
        "\n",
        "# Describing white wine data\n",
        "print(white_wine_data.describe())\n"
      ],
      "metadata": {
        "id": "-UsPOAL-Etc_",
        "colab": {
          "base_uri": "https://localhost:8080/"
        },
        "outputId": "dfe9dd10-fc6b-462f-d14e-35b7dba00efb"
      },
      "execution_count": 12,
      "outputs": [
        {
          "output_type": "stream",
          "name": "stdout",
          "text": [
            "       fixed acidity  volatile acidity  citric acid  residual sugar  \\\n",
            "count    1599.000000       1599.000000  1599.000000     1599.000000   \n",
            "mean        8.319637          0.527821     0.270976        2.538806   \n",
            "std         1.741096          0.179060     0.194801        1.409928   \n",
            "min         4.600000          0.120000     0.000000        0.900000   \n",
            "25%         7.100000          0.390000     0.090000        1.900000   \n",
            "50%         7.900000          0.520000     0.260000        2.200000   \n",
            "75%         9.200000          0.640000     0.420000        2.600000   \n",
            "max        15.900000          1.580000     1.000000       15.500000   \n",
            "\n",
            "         chlorides  free sulfur dioxide  total sulfur dioxide      density  \\\n",
            "count  1599.000000          1599.000000           1599.000000  1599.000000   \n",
            "mean      0.087467            15.874922             46.467792     0.996747   \n",
            "std       0.047065            10.460157             32.895324     0.001887   \n",
            "min       0.012000             1.000000              6.000000     0.990070   \n",
            "25%       0.070000             7.000000             22.000000     0.995600   \n",
            "50%       0.079000            14.000000             38.000000     0.996750   \n",
            "75%       0.090000            21.000000             62.000000     0.997835   \n",
            "max       0.611000            72.000000            289.000000     1.003690   \n",
            "\n",
            "                pH    sulphates      alcohol      quality  \n",
            "count  1599.000000  1599.000000  1599.000000  1599.000000  \n",
            "mean      3.311113     0.658149    10.422983     5.636023  \n",
            "std       0.154386     0.169507     1.065668     0.807569  \n",
            "min       2.740000     0.330000     8.400000     3.000000  \n",
            "25%       3.210000     0.550000     9.500000     5.000000  \n",
            "50%       3.310000     0.620000    10.200000     6.000000  \n",
            "75%       3.400000     0.730000    11.100000     6.000000  \n",
            "max       4.010000     2.000000    14.900000     8.000000  \n",
            "       fixed acidity  volatile acidity  citric acid  residual sugar  \\\n",
            "count    4898.000000       4898.000000  4898.000000     4898.000000   \n",
            "mean        6.854788          0.278241     0.334192        6.391415   \n",
            "std         0.843868          0.100795     0.121020        5.072058   \n",
            "min         3.800000          0.080000     0.000000        0.600000   \n",
            "25%         6.300000          0.210000     0.270000        1.700000   \n",
            "50%         6.800000          0.260000     0.320000        5.200000   \n",
            "75%         7.300000          0.320000     0.390000        9.900000   \n",
            "max        14.200000          1.100000     1.660000       65.800000   \n",
            "\n",
            "         chlorides  free sulfur dioxide  total sulfur dioxide      density  \\\n",
            "count  4898.000000          4898.000000           4898.000000  4898.000000   \n",
            "mean      0.045772            35.308085            138.360657     0.994027   \n",
            "std       0.021848            17.007137             42.498065     0.002991   \n",
            "min       0.009000             2.000000              9.000000     0.987110   \n",
            "25%       0.036000            23.000000            108.000000     0.991723   \n",
            "50%       0.043000            34.000000            134.000000     0.993740   \n",
            "75%       0.050000            46.000000            167.000000     0.996100   \n",
            "max       0.346000           289.000000            440.000000     1.038980   \n",
            "\n",
            "                pH    sulphates      alcohol      quality  \n",
            "count  4898.000000  4898.000000  4898.000000  4898.000000  \n",
            "mean      3.188267     0.489847    10.514267     5.877909  \n",
            "std       0.151001     0.114126     1.230621     0.885639  \n",
            "min       2.720000     0.220000     8.000000     3.000000  \n",
            "25%       3.090000     0.410000     9.500000     5.000000  \n",
            "50%       3.180000     0.470000    10.400000     6.000000  \n",
            "75%       3.280000     0.550000    11.400000     6.000000  \n",
            "max       3.820000     1.080000    14.200000     9.000000  \n"
          ]
        }
      ]
    },
    {
      "cell_type": "markdown",
      "source": [
        "**Data Visualization**\n"
      ],
      "metadata": {
        "id": "GwCfsCLTEy3R"
      }
    },
    {
      "cell_type": "code",
      "source": [
        "import matplotlib.pyplot as plt\n",
        "import seaborn as sns\n",
        "\n",
        "# Visualizing the distribution of wine quality in red wine\n",
        "plt.figure(figsize=(10, 5))\n",
        "sns.countplot(x='quality', data=red_wine_data)\n",
        "plt.title('Red Wine Quality Distribution')\n",
        "plt.show()\n",
        "\n",
        "# Visualizing the distribution of wine quality in white wine\n",
        "plt.figure(figsize=(10, 5))\n",
        "sns.countplot(x='quality', data=white_wine_data)\n",
        "plt.title('White Wine Quality Distribution')\n",
        "plt.show()\n"
      ],
      "metadata": {
        "colab": {
          "base_uri": "https://localhost:8080/",
          "height": 957
        },
        "id": "l29KNr0IE_EG",
        "outputId": "31b8f7a3-80d3-4d78-85e5-a136923628f5"
      },
      "execution_count": 10,
      "outputs": [
        {
          "output_type": "display_data",
          "data": {
            "text/plain": [
              "<Figure size 1000x500 with 1 Axes>"
            ],
            "image/png": "[encoded data removed]"
          },
          "metadata": {}
        },
        {
          "output_type": "display_data",
          "data": {
            "text/plain": [
              "<Figure size 1000x500 with 1 Axes>"
            ],
            "image/png": "[encoded data removed]"
          },
          "metadata": {}
        }
      ]
    },
    {
      "cell_type": "markdown",
      "source": [
        "\n",
        "**Data Preprocessing**"
      ],
      "metadata": {
        "id": "-wak1aWCvfda"
      }
    },
    {
      "cell_type": "code",
      "source": [
        "# Checking for missing values in the datasets\n",
        "print(\"Missing values in red wine data:\")\n",
        "print(red_wine_data.isnull().sum())\n",
        "\n",
        "print(\"Missing values in white wine data:\")\n",
        "print(white_wine_data.isnull().sum())\n",
        "\n",
        "# No missing values in these datasets, but we can check if any exist\n"
      ],
      "metadata": {
        "colab": {
          "base_uri": "https://localhost:8080/"
        },
        "id": "geaG4_VAviTL",
        "outputId": "df7454d6-c24e-476f-9fb4-f6ce55de4a10"
      },
      "execution_count": 14,
      "outputs": [
        {
          "output_type": "stream",
          "name": "stdout",
          "text": [
            "Missing values in red wine data:\n",
            "fixed acidity           0\n",
            "volatile acidity        0\n",
            "citric acid             0\n",
            "residual sugar          0\n",
            "chlorides               0\n",
            "free sulfur dioxide     0\n",
            "total sulfur dioxide    0\n",
            "density                 0\n",
            "pH                      0\n",
            "sulphates               0\n",
            "alcohol                 0\n",
            "quality                 0\n",
            "dtype: int64\n",
            "Missing values in white wine data:\n",
            "fixed acidity           0\n",
            "volatile acidity        0\n",
            "citric acid             0\n",
            "residual sugar          0\n",
            "chlorides               0\n",
            "free sulfur dioxide     0\n",
            "total sulfur dioxide    0\n",
            "density                 0\n",
            "pH                      0\n",
            "sulphates               0\n",
            "alcohol                 0\n",
            "quality                 0\n",
            "dtype: int64\n"
          ]
        }
      ]
    },
    {
      "cell_type": "markdown",
      "source": [
        "Data Preprocessing"
      ],
      "metadata": {
        "id": "1I-CHfUVvvkT"
      }
    },
    {
      "cell_type": "code",
      "source": [
        "from sklearn.preprocessing import StandardScaler\n",
        "\n",
        "# Initialize the scaler\n",
        "scaler = StandardScaler()\n",
        "\n",
        "# Standardizing the features\n",
        "X_red = scaler.fit_transform(red_wine_data.drop('quality', axis=1))\n",
        "X_white = scaler.fit_transform(white_wine_data.drop('quality', axis=1))\n",
        "\n",
        "# Creating DataFrames from the scaled arrays\n",
        "X_red = pd.DataFrame(X_red, columns=red_wine_data.columns[:-1])\n",
        "X_white = pd.DataFrame(X_white, columns=white_wine_data.columns[:-1])\n",
        "\n",
        "# Target variables\n",
        "y_red = red_wine_data['quality']\n",
        "y_white = white_wine_data['quality']\n"
      ],
      "metadata": {
        "id": "Vsg83FUgvyLC"
      },
      "execution_count": 15,
      "outputs": []
    },
    {
      "cell_type": "markdown",
      "source": [
        "**Define Target Variable (y) and Feature Variables (X)**"
      ],
      "metadata": {
        "id": "0xkMrnxUv4ab"
      }
    },
    {
      "cell_type": "markdown",
      "source": [
        "For Red Wine:\n",
        "\n"
      ],
      "metadata": {
        "id": "7uesErRxv88h"
      }
    },
    {
      "cell_type": "code",
      "source": [
        "X_red = X_red  # Features\n",
        "y_red = y_red  # Target\n"
      ],
      "metadata": {
        "id": "QB6wBuS2v99q"
      },
      "execution_count": 16,
      "outputs": []
    },
    {
      "cell_type": "markdown",
      "source": [
        "For White Wine:\n",
        "\n"
      ],
      "metadata": {
        "id": "zRzikzdnwDIR"
      }
    },
    {
      "cell_type": "code",
      "source": [
        "X_white = X_white  # Features\n",
        "y_white = y_white  # Target\n"
      ],
      "metadata": {
        "id": "-qPgO-OqwD8i"
      },
      "execution_count": 18,
      "outputs": []
    },
    {
      "cell_type": "markdown",
      "source": [
        "**Train Test Split**\n"
      ],
      "metadata": {
        "id": "i00FpgzlwNR2"
      }
    },
    {
      "cell_type": "code",
      "source": [
        "from sklearn.model_selection import train_test_split\n",
        "\n",
        "# Splitting red wine data\n",
        "X_train_red, X_test_red, y_train_red, y_test_red = train_test_split(X_red, y_red, test_size=0.2, random_state=42)\n",
        "\n",
        "# Splitting white wine data\n",
        "X_train_white, X_test_white, y_train_white, y_test_white = train_test_split(X_white, y_white, test_size=0.2, random_state=42)\n"
      ],
      "metadata": {
        "id": "aJXINgd1wPe0"
      },
      "execution_count": 17,
      "outputs": []
    },
    {
      "cell_type": "markdown",
      "source": [
        "Modeling\n"
      ],
      "metadata": {
        "id": "NbpjoDTMwtGz"
      }
    },
    {
      "cell_type": "code",
      "source": [
        "from sklearn.svm import SVC\n",
        "\n",
        "# Creating and training the SVM model for red wine\n",
        "svm_model_red = SVC()\n",
        "svm_model_red.fit(X_train_red, y_train_red)\n",
        "\n",
        "# Creating and training the SVM model for white wine\n",
        "svm_model_white = SVC()\n",
        "svm_model_white.fit(X_train_white, y_train_white)\n"
      ],
      "metadata": {
        "colab": {
          "base_uri": "https://localhost:8080/",
          "height": 74
        },
        "id": "QAV8PS89wwoV",
        "outputId": "da1a2cbc-6595-4460-ac7e-9573a9c0b89c"
      },
      "execution_count": 19,
      "outputs": [
        {
          "output_type": "execute_result",
          "data": {
            "text/plain": [
              "SVC()"
            ],
            "text/html": [
              "<style>#sk-container-id-1 {color: black;}#sk-container-id-1 pre{padding: 0;}#sk-container-id-1 div.sk-toggleable {background-color: white;}#sk-container-id-1 label.sk-toggleable__label {cursor: pointer;display: block;width: 100%;margin-bottom: 0;padding: 0.3em;box-sizing: border-box;text-align: center;}#sk-container-id-1 label.sk-toggleable__label-arrow:before {content: \"▸\";float: left;margin-right: 0.25em;color: #696969;}#sk-container-id-1 label.sk-toggleable__label-arrow:hover:before {color: black;}#sk-container-id-1 div.sk-estimator:hover label.sk-toggleable__label-arrow:before {color: black;}#sk-container-id-1 div.sk-toggleable__content {max-height: 0;max-width: 0;overflow: hidden;text-align: left;background-color: #f0f8ff;}#sk-container-id-1 div.sk-toggleable__content pre {margin: 0.2em;color: black;border-radius: 0.25em;background-color: #f0f8ff;}#sk-container-id-1 input.sk-toggleable__control:checked~div.sk-toggleable__content {max-height: 200px;max-width: 100%;overflow: auto;}#sk-container-id-1 input.sk-toggleable__control:checked~label.sk-toggleable__label-arrow:before {content: \"▾\";}#sk-container-id-1 div.sk-estimator input.sk-toggleable__control:checked~label.sk-toggleable__label {background-color: #d4ebff;}#sk-container-id-1 div.sk-label input.sk-toggleable__control:checked~label.sk-toggleable__label {background-color: #d4ebff;}#sk-container-id-1 input.sk-hidden--visually {border: 0;clip: rect(1px 1px 1px 1px);clip: rect(1px, 1px, 1px, 1px);height: 1px;margin: -1px;overflow: hidden;padding: 0;position: absolute;width: 1px;}#sk-container-id-1 div.sk-estimator {font-family: monospace;background-color: #f0f8ff;border: 1px dotted black;border-radius: 0.25em;box-sizing: border-box;margin-bottom: 0.5em;}#sk-container-id-1 div.sk-estimator:hover {background-color: #d4ebff;}#sk-container-id-1 div.sk-parallel-item::after {content: \"\";width: 100%;border-bottom: 1px solid gray;flex-grow: 1;}#sk-container-id-1 div.sk-label:hover label.sk-toggleable__label {background-color: #d4ebff;}#sk-container-id-1 div.sk-serial::before {content: \"\";position: absolute;border-left: 1px solid gray;box-sizing: border-box;top: 0;bottom: 0;left: 50%;z-index: 0;}#sk-container-id-1 div.sk-serial {display: flex;flex-direction: column;align-items: center;background-color: white;padding-right: 0.2em;padding-left: 0.2em;position: relative;}#sk-container-id-1 div.sk-item {position: relative;z-index: 1;}#sk-container-id-1 div.sk-parallel {display: flex;align-items: stretch;justify-content: center;background-color: white;position: relative;}#sk-container-id-1 div.sk-item::before, #sk-container-id-1 div.sk-parallel-item::before {content: \"\";position: absolute;border-left: 1px solid gray;box-sizing: border-box;top: 0;bottom: 0;left: 50%;z-index: -1;}#sk-container-id-1 div.sk-parallel-item {display: flex;flex-direction: column;z-index: 1;position: relative;background-color: white;}#sk-container-id-1 div.sk-parallel-item:first-child::after {align-self: flex-end;width: 50%;}#sk-container-id-1 div.sk-parallel-item:last-child::after {align-self: flex-start;width: 50%;}#sk-container-id-1 div.sk-parallel-item:only-child::after {width: 0;}#sk-container-id-1 div.sk-dashed-wrapped {border: 1px dashed gray;margin: 0 0.4em 0.5em 0.4em;box-sizing: border-box;padding-bottom: 0.4em;background-color: white;}#sk-container-id-1 div.sk-label label {font-family: monospace;font-weight: bold;display: inline-block;line-height: 1.2em;}#sk-container-id-1 div.sk-label-container {text-align: center;}#sk-container-id-1 div.sk-container {/* jupyter's `normalize.less` sets `[hidden] { display: none; }` but bootstrap.min.css set `[hidden] { display: none !important; }` so we also need the `!important` here to be able to override the default hidden behavior on the sphinx rendered scikit-learn.org. See: https://github.com/scikit-learn/scikit-learn/issues/21755 */display: inline-block !important;position: relative;}#sk-container-id-1 div.sk-text-repr-fallback {display: none;}</style><div id=\"sk-container-id-1\" class=\"sk-top-container\"><div class=\"sk-text-repr-fallback\"><pre>SVC()</pre><b>In a Jupyter environment, please rerun this cell to show the HTML representation or trust the notebook. <br />On GitHub, the HTML representation is unable to render, please try loading this page with nbviewer.org.</b></div><div class=\"sk-container\" hidden><div class=\"sk-item\"><div class=\"sk-estimator sk-toggleable\"><input class=\"sk-toggleable__control sk-hidden--visually\" id=\"sk-estimator-id-1\" type=\"checkbox\" checked><label for=\"sk-estimator-id-1\" class=\"sk-toggleable__label sk-toggleable__label-arrow\">SVC</label><div class=\"sk-toggleable__content\"><pre>SVC()</pre></div></div></div></div></div>"
            ]
          },
          "metadata": {},
          "execution_count": 19
        }
      ]
    },
    {
      "cell_type": "markdown",
      "source": [
        "**Model Evaluation**\n"
      ],
      "metadata": {
        "id": "I6n1zhOww2i-"
      }
    },
    {
      "cell_type": "code",
      "source": [
        "from sklearn.metrics import classification_report, confusion_matrix\n",
        "\n",
        "# Evaluating the red wine model\n",
        "y_pred_red = svm_model_red.predict(X_test_red)\n",
        "print(\"Red Wine Classification Report:\")\n",
        "print(classification_report(y_test_red, y_pred_red))\n",
        "print(\"Red Wine Confusion Matrix:\")\n",
        "print(confusion_matrix(y_test_red, y_pred_red))\n",
        "\n",
        "# Evaluating the white wine model\n",
        "y_pred_white = svm_model_white.predict(X_test_white)\n",
        "print(\"White Wine Classification Report:\")\n",
        "print(classification_report(y_test_white, y_pred_white))\n",
        "print(\"White Wine Confusion Matrix:\")\n",
        "print(confusion_matrix(y_test_white, y_pred_white))\n"
      ],
      "metadata": {
        "colab": {
          "base_uri": "https://localhost:8080/"
        },
        "id": "nIbqG0Q0w4kz",
        "outputId": "11328196-9de5-4dba-cb8d-7c8579aa60d4"
      },
      "execution_count": 20,
      "outputs": [
        {
          "output_type": "stream",
          "name": "stdout",
          "text": [
            "Red Wine Classification Report:\n",
            "              precision    recall  f1-score   support\n",
            "\n",
            "           3       0.00      0.00      0.00         1\n",
            "           4       0.00      0.00      0.00        10\n",
            "           5       0.65      0.76      0.70       130\n",
            "           6       0.56      0.64      0.60       132\n",
            "           7       0.56      0.21      0.31        42\n",
            "           8       0.00      0.00      0.00         5\n",
            "\n",
            "    accuracy                           0.60       320\n",
            "   macro avg       0.30      0.27      0.27       320\n",
            "weighted avg       0.57      0.60      0.57       320\n",
            "\n",
            "Red Wine Confusion Matrix:\n",
            "[[ 0  0  1  0  0  0]\n",
            " [ 0  0  8  2  0  0]\n",
            " [ 0  0 99 31  0  0]\n",
            " [ 0  0 43 85  4  0]\n",
            " [ 0  0  1 32  9  0]\n",
            " [ 0  0  0  2  3  0]]\n"
          ]
        },
        {
          "output_type": "stream",
          "name": "stderr",
          "text": [
            "/usr/local/lib/python3.10/dist-packages/sklearn/metrics/_classification.py:1471: UndefinedMetricWarning: Precision and F-score are ill-defined and being set to 0.0 in labels with no predicted samples. Use `zero_division` parameter to control this behavior.\n",
            "  _warn_prf(average, modifier, msg_start, len(result))\n",
            "/usr/local/lib/python3.10/dist-packages/sklearn/metrics/_classification.py:1471: UndefinedMetricWarning: Precision and F-score are ill-defined and being set to 0.0 in labels with no predicted samples. Use `zero_division` parameter to control this behavior.\n",
            "  _warn_prf(average, modifier, msg_start, len(result))\n",
            "/usr/local/lib/python3.10/dist-packages/sklearn/metrics/_classification.py:1471: UndefinedMetricWarning: Precision and F-score are ill-defined and being set to 0.0 in labels with no predicted samples. Use `zero_division` parameter to control this behavior.\n",
            "  _warn_prf(average, modifier, msg_start, len(result))\n"
          ]
        },
        {
          "output_type": "stream",
          "name": "stdout",
          "text": [
            "White Wine Classification Report:\n",
            "              precision    recall  f1-score   support\n",
            "\n",
            "           3       0.00      0.00      0.00         5\n",
            "           4       0.50      0.08      0.14        25\n",
            "           5       0.62      0.57      0.59       291\n",
            "           6       0.53      0.77      0.62       432\n",
            "           7       0.65      0.25      0.36       192\n",
            "           8       0.00      0.00      0.00        35\n",
            "\n",
            "    accuracy                           0.56       980\n",
            "   macro avg       0.38      0.28      0.29       980\n",
            "weighted avg       0.56      0.56      0.53       980\n",
            "\n",
            "White Wine Confusion Matrix:\n",
            "[[  0   0   1   4   0   0]\n",
            " [  0   2  14   9   0   0]\n",
            " [  0   2 166 122   1   0]\n",
            " [  0   0  82 333  17   0]\n",
            " [  0   0   5 139  48   0]\n",
            " [  0   0   0  27   8   0]]\n"
          ]
        },
        {
          "output_type": "stream",
          "name": "stderr",
          "text": [
            "/usr/local/lib/python3.10/dist-packages/sklearn/metrics/_classification.py:1471: UndefinedMetricWarning: Precision and F-score are ill-defined and being set to 0.0 in labels with no predicted samples. Use `zero_division` parameter to control this behavior.\n",
            "  _warn_prf(average, modifier, msg_start, len(result))\n",
            "/usr/local/lib/python3.10/dist-packages/sklearn/metrics/_classification.py:1471: UndefinedMetricWarning: Precision and F-score are ill-defined and being set to 0.0 in labels with no predicted samples. Use `zero_division` parameter to control this behavior.\n",
            "  _warn_prf(average, modifier, msg_start, len(result))\n",
            "/usr/local/lib/python3.10/dist-packages/sklearn/metrics/_classification.py:1471: UndefinedMetricWarning: Precision and F-score are ill-defined and being set to 0.0 in labels with no predicted samples. Use `zero_division` parameter to control this behavior.\n",
            "  _warn_prf(average, modifier, msg_start, len(result))\n"
          ]
        }
      ]
    },
    {
      "cell_type": "markdown",
      "source": [
        "**Prediction**"
      ],
      "metadata": {
        "id": "vjk3E2KvxBCk"
      }
    },
    {
      "cell_type": "code",
      "source": [
        "# Making predictions for new red wine samples\n",
        "new_red_wine_samples = X_test_red[:5]  # Example from test data\n",
        "predicted_red_quality = svm_model_red.predict(new_red_wine_samples)\n",
        "print(f\"Predicted Red Wine Quality for samples: {predicted_red_quality}\")\n",
        "\n",
        "# Making predictions for new white wine samples\n",
        "new_white_wine_samples = X_test_white[:5]  # Example from test data\n",
        "predicted_white_quality = svm_model_white.predict(new_white_wine_samples)\n",
        "print(f\"Predicted White Wine Quality for samples: {predicted_white_quality}\")\n"
      ],
      "metadata": {
        "colab": {
          "base_uri": "https://localhost:8080/"
        },
        "id": "75mAVSHsxCfE",
        "outputId": "c3583681-f0bc-4b4f-c99c-22c6584993f4"
      },
      "execution_count": 21,
      "outputs": [
        {
          "output_type": "stream",
          "name": "stdout",
          "text": [
            "Predicted Red Wine Quality for samples: [5 5 6 5 6]\n",
            "Predicted White Wine Quality for samples: [6 6 6 6 7]\n"
          ]
        }
      ]
    },
    {
      "cell_type": "markdown",
      "source": [
        "**Explanation**\n",
        "\n",
        "Data Preprocessing: Ensured the data was clean and standardized for the SVM model.\n",
        "\n",
        "Feature and Target Variables: Defined the features and target variables for the model.\n",
        "\n",
        "Train-Test Split: Separated data into training and test sets to evaluate model performance.\n",
        "\n",
        "Modeling: Trained SVM models to predict wine quality.\n",
        "Model Evaluation: Assessed model performance using classification reports and confusion matrices.\n",
        "\n",
        "Prediction: Tested the models with new data samples to make predictions."
      ],
      "metadata": {
        "id": "7oBqrqhJxYbd"
      }
    }
  ]
}